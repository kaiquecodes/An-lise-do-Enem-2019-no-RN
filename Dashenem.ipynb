{
  "nbformat": 4,
  "nbformat_minor": 0,
  "metadata": {
    "colab": {
      "name": "Dashenem.ipynb",
      "provenance": [],
      "collapsed_sections": [],
      "mount_file_id": "1b-jk4baBIAJxE7Lt3qW9JbB-7ldWJe5e",
      "authorship_tag": "ABX9TyOnJtrTlZXfBiT5Nl8tonL7",
      "include_colab_link": true
    },
    "kernelspec": {
      "name": "python3",
      "display_name": "Python 3"
    }
  },
  "cells": [
    {
      "cell_type": "markdown",
      "metadata": {
        "id": "view-in-github",
        "colab_type": "text"
      },
      "source": [
        "<a href=\"https://colab.research.google.com/github/kaiquecodes/Analise-do-Enem-2019-no-RN/blob/main/Dashenem.ipynb\" target=\"_parent\"><img src=\"https://colab.research.google.com/assets/colab-badge.svg\" alt=\"Open In Colab\"/></a>"
      ]
    },
    {
      "cell_type": "code",
      "metadata": {
        "colab": {
          "base_uri": "https://localhost:8080/"
        },
        "id": "CLaNE6IpQXBR",
        "outputId": "d61cd88c-c4d0-45bc-b468-1759e838dca5"
      },
      "source": [
        "!pip install Plotly==4.12\n",
        "!pip install dash\n",
        "!pip install dash-html-components\n",
        "!pip install dash-core-components\n",
        "!pip install dash-table"
      ],
      "execution_count": null,
      "outputs": [
        {
          "output_type": "stream",
          "text": [
            "Requirement already satisfied: Plotly==4.12 in /usr/local/lib/python3.7/dist-packages (4.12.0)\n",
            "Requirement already satisfied: six in /usr/local/lib/python3.7/dist-packages (from Plotly==4.12) (1.15.0)\n",
            "Requirement already satisfied: retrying>=1.3.3 in /usr/local/lib/python3.7/dist-packages (from Plotly==4.12) (1.3.3)\n",
            "Requirement already satisfied: dash in /usr/local/lib/python3.7/dist-packages (1.19.0)\n",
            "Requirement already satisfied: dash-renderer==1.9.0 in /usr/local/lib/python3.7/dist-packages (from dash) (1.9.0)\n",
            "Requirement already satisfied: dash-table==4.11.2 in /usr/local/lib/python3.7/dist-packages (from dash) (4.11.2)\n",
            "Requirement already satisfied: dash-core-components==1.15.0 in /usr/local/lib/python3.7/dist-packages (from dash) (1.15.0)\n",
            "Requirement already satisfied: Flask>=1.0.4 in /usr/local/lib/python3.7/dist-packages (from dash) (1.1.2)\n",
            "Requirement already satisfied: dash-html-components==1.1.2 in /usr/local/lib/python3.7/dist-packages (from dash) (1.1.2)\n",
            "Requirement already satisfied: future in /usr/local/lib/python3.7/dist-packages (from dash) (0.16.0)\n",
            "Requirement already satisfied: flask-compress in /usr/local/lib/python3.7/dist-packages (from dash) (1.9.0)\n",
            "Requirement already satisfied: plotly in /usr/local/lib/python3.7/dist-packages (from dash) (4.12.0)\n",
            "Requirement already satisfied: Jinja2>=2.10.1 in /usr/local/lib/python3.7/dist-packages (from Flask>=1.0.4->dash) (2.11.3)\n",
            "Requirement already satisfied: Werkzeug>=0.15 in /usr/local/lib/python3.7/dist-packages (from Flask>=1.0.4->dash) (1.0.1)\n",
            "Requirement already satisfied: click>=5.1 in /usr/local/lib/python3.7/dist-packages (from Flask>=1.0.4->dash) (7.1.2)\n",
            "Requirement already satisfied: itsdangerous>=0.24 in /usr/local/lib/python3.7/dist-packages (from Flask>=1.0.4->dash) (1.1.0)\n",
            "Requirement already satisfied: brotli in /usr/local/lib/python3.7/dist-packages (from flask-compress->dash) (1.0.9)\n",
            "Requirement already satisfied: six in /usr/local/lib/python3.7/dist-packages (from plotly->dash) (1.15.0)\n",
            "Requirement already satisfied: retrying>=1.3.3 in /usr/local/lib/python3.7/dist-packages (from plotly->dash) (1.3.3)\n",
            "Requirement already satisfied: MarkupSafe>=0.23 in /usr/local/lib/python3.7/dist-packages (from Jinja2>=2.10.1->Flask>=1.0.4->dash) (1.1.1)\n",
            "Requirement already satisfied: dash-html-components in /usr/local/lib/python3.7/dist-packages (1.1.2)\n",
            "Requirement already satisfied: dash-core-components in /usr/local/lib/python3.7/dist-packages (1.15.0)\n",
            "Requirement already satisfied: dash-table in /usr/local/lib/python3.7/dist-packages (4.11.2)\n"
          ],
          "name": "stdout"
        }
      ]
    },
    {
      "cell_type": "code",
      "metadata": {
        "id": "nDUNGZFyQoxF"
      },
      "source": [
        "import pandas as pd \n",
        "import zipfile\n",
        "import matplotlib"
      ],
      "execution_count": null,
      "outputs": []
    },
    {
      "cell_type": "code",
      "metadata": {
        "id": "jOj0bV74Qrr7"
      },
      "source": [
        "import numpy as np\n",
        "import pandas as pd\n",
        "import plotly.express as px"
      ],
      "execution_count": null,
      "outputs": []
    },
    {
      "cell_type": "code",
      "metadata": {
        "id": "t62bpdcsQui7"
      },
      "source": [
        "# Pacotes para criação de processos para suportar o serviço URL externo do Ngrok\n",
        "import os.path\n",
        "import sys, json\n",
        "import requests\n",
        "import subprocess\n",
        "\n",
        "# Pacotes de tratamento de URL\n",
        "from requests.exceptions import RequestException\n",
        "from requests.adapters import HTTPAdapter\n",
        "from requests.packages.urllib3.util.retry import Retry\n",
        "\n",
        "from collections import namedtuple"
      ],
      "execution_count": null,
      "outputs": []
    },
    {
      "cell_type": "code",
      "metadata": {
        "id": "2f4_P1kkQxVo"
      },
      "source": [
        "# Definição da função de Download do Ngrok\n",
        "def download_ngrok():\n",
        "    if not os.path.isfile('ngrok'):\n",
        "        !wget https://bin.equinox.io/c/4VmDzA7iaHb/ngrok-stable-linux-amd64.zip\n",
        "        !unzip -o ngrok-stable-linux-amd64.zip\n",
        "    pass"
      ],
      "execution_count": null,
      "outputs": []
    },
    {
      "cell_type": "code",
      "metadata": {
        "id": "l8kzHeFhQz0Y"
      },
      "source": [
        "# Criação de um Túnel entre uma aplicação no Colab e uma URL externa no Ngrok\n",
        "# Função para pegar a referência nesse túnel\n",
        "\n",
        "Response = namedtuple('Response', ['url', 'error'])\n",
        "\n",
        "def get_tunnel():\n",
        "    try:\n",
        "        Tunnel = subprocess.Popen(['./ngrok','http','8050'])\n",
        "\n",
        "        session = requests.Session()\n",
        "        retry = Retry(connect=3, backoff_factor=0.5)\n",
        "        adapter = HTTPAdapter(max_retries=retry)\n",
        "        session.mount('http://', adapter)\n",
        "\n",
        "        res = session.get('http://localhost:4040/api/tunnels')\n",
        "        res.raise_for_status()\n",
        "\n",
        "        tunnel_str = res.text\n",
        "        tunnel_cfg = json.loads(tunnel_str)\n",
        "        tunnel_url = tunnel_cfg['tunnels'][0]['public_url']\n",
        "\n",
        "        return Response(url=tunnel_url, error=None)\n",
        "    except RequestException as e:\n",
        "        return Response(url=None, error=str(e))"
      ],
      "execution_count": null,
      "outputs": []
    },
    {
      "cell_type": "code",
      "metadata": {
        "id": "B6RstSr7RCxw"
      },
      "source": [
        "download_ngrok()"
      ],
      "execution_count": null,
      "outputs": []
    },
    {
      "cell_type": "code",
      "metadata": {
        "id": "y-pneoolRURw"
      },
      "source": [
        "pd.options.plotting.backend = 'plotly'"
      ],
      "execution_count": null,
      "outputs": []
    },
    {
      "cell_type": "code",
      "metadata": {
        "colab": {
          "base_uri": "https://localhost:8080/"
        },
        "id": "z-Bwp2GBRahE",
        "outputId": "35d09f46-8d36-4adc-eda2-a675f4a5ade7"
      },
      "source": [
        "# Geração do programa exemplo_dash_1.py\n",
        "%%writefile exemplo_dash_1.py\n",
        "import dash\n",
        "import dash_core_components as dcc\n",
        "import dash_html_components as html\n",
        "import plotly.express as px\n",
        "import pandas as pd\n",
        "\n",
        "\n",
        "external_stylesheets = ['https://codepen.io/chriddyp/pen/bWLwgP.css']\n",
        "\n",
        "app = dash.Dash(__name__, external_stylesheets=external_stylesheets)\n",
        "\n",
        "#testando \n",
        "\n",
        "microdados_RN= pd.read_csv(\"/content/drive/MyDrive/Teste/microdados_RN.csv\")\n",
        "\n",
        "microdados_RN = microdados_RN.rename({'Q006': 'Renda Familiar','NO_MUNICIPIO_PROVA': 'Município da Prova','NU_NOTA_MT':'Nota de Matemática','NU_NOTA_CN':'Nota Ciências da Natureza'\n",
        ",'NU_NOTA_CH':'Nota Ciências Humanas', 'NU_NOTA_LC' : 'Nota Linguagens','NU_NOTA_REDACAO':'Nota da Redação','MEDIA_NOTAS':'Média das Notas'\n",
        ", 'TIPOS_DE_ESCOLA':'Tipo de Escola', 'NU_IDADE': 'Idade dos Candidatos'}, axis = 1)\n",
        "\n",
        "microdados_RN = microdados_RN.dropna(subset=['Renda Familiar','Nota Ciências da Natureza','Nota Ciências Humanas','Nota Linguagens','Nota de Matemática','Nota da Redação'])\n",
        "col = microdados_RN.loc[:,\"Nota Ciências da Natureza\":\"Nota da Redação\"]\n",
        "microdados_RN['Média das Notas'] = col.mean(axis=1)\n",
        "\n",
        "\n",
        "#cidades\n",
        "\n",
        "colunas_selecionadas_cidades = ['Município da Prova','Nota Ciências da Natureza','Nota Ciências Humanas','Nota Linguagens','Nota de Matemática','Nota da Redação','Média das Notas']\n",
        "cidades = microdados_RN.filter(items=colunas_selecionadas_cidades)\n",
        "cidades = cidades.dropna()\n",
        "cidades.value_counts('Município da Prova')\n",
        "\n",
        "cidades = cidades.groupby('Município da Prova').mean()\n",
        "fig1 = px.line(cidades, title='Notas por Cidades',labels=dict(value=\"Notas\", variable=\"Variável\"))\n",
        "\n",
        "#renda\n",
        "\n",
        "colunas_selecionadas = ['Renda Familiar','Média das Notas']\n",
        "\n",
        "\n",
        "renda = microdados_RN.filter(items=colunas_selecionadas)\n",
        "renda = renda.dropna()\n",
        "renda = renda.groupby('Renda Familiar').mean()\n",
        "\n",
        "fig2 = px.area(renda, title='Notas por Renda', labels=dict(value=\"Notas\", variable=\"Variável\"),color=\"variable\")\n",
        "\n",
        "\n",
        "#tipo de escola\n",
        "colunas_selecionadas_escola = ['TP_DEPENDENCIA_ADM_ESC','Média das Notas']\n",
        "dicionario_escola={1.0:'Federal',2.0:'Estadual',3.0:'Municipal',4.0:'Privada'}\n",
        "tipo_escola = microdados_RN.filter(items=colunas_selecionadas_escola)\n",
        "tipo_escola = tipo_escola.dropna()\n",
        "tipo_escola['Tipo de Escola'] = [dicionario_escola[resp] for resp in tipo_escola.TP_DEPENDENCIA_ADM_ESC]\n",
        "\n",
        "fig3 = px.histogram(tipo_escola['Tipo de Escola'], color_discrete_sequence=px.colors.qualitative.Pastel2, title='Quantidade de Escolas por Tipo de Administração', labels=dict(count=\"Quantidade\",value=\"Tipo de Escola\", variable=\"Variável\"))\n",
        "\n",
        "#nota por tipo de escola\n",
        "\n",
        "#tipo_escola = tipo_escola.filter(items=['Tipo de Escola','Média das Notas']).groupby('Tipo de Escola').mean()\n",
        "#fig4 = px.bar(tipo_escola['Tipo de Escola'], title='Notas por Tipo de Administração')\n",
        "\n",
        "#idade\n",
        "\n",
        "\n",
        "idade_hist = microdados_RN['Idade dos Candidatos'].dropna()\n",
        "fig5 = px.histogram(idade_hist,title='Histograma da idade dos candidatos',labels=dict(value=\"Idade dos Candidatos\", count=\"Idade dos Candidatos\", variable=\"Variável\"))\n",
        "\n",
        "#Notas por Idade\n",
        "\n",
        "colunas_selecionadas_idade = ['Idade dos Candidatos','Média das Notas']\n",
        "idade = microdados_RN.filter(items=colunas_selecionadas_idade)\n",
        "idade = idade.dropna()\n",
        "idade = idade.groupby('Idade dos Candidatos').mean()\n",
        "\n",
        "fig6 = px.scatter(idade, title='Média de notas por faixa etária', color_discrete_sequence=px.colors.qualitative.Set2, color=\"variable\",labels=dict(value=\"Média\", variable=\"Variável\"))\n",
        "\n",
        "\n",
        "app.layout = html.Div(children=[\n",
        "    html.H1(children='Análise de Dados do Enem 2019'),\n",
        "\n",
        "    html.Div(children='''\n",
        "        Descrição: Análise do desempenho dos estudantes do Rio Grande do Norte no Enem 2019.\n",
        "    '''),\n",
        "   \n",
        "\n",
        "    html.Div(\n",
        "        dcc.Graph(id='example-graph1',figure=fig1)\n",
        "     ),\n",
        "\n",
        "      \n",
        "    html.Div(\n",
        "        dcc.Graph(\n",
        "            id='example-graph2', figure=fig2 )\n",
        "     ),  \n",
        "    \n",
        "      html.Div(\n",
        "        dcc.Graph(\n",
        "            id='example-graph3', figure=fig3 )\n",
        "    ),\n",
        "\n",
        "    #html.Div(\n",
        "        #dcc.Graph(\n",
        "            #id='example-graph4', figure=fig4 )\n",
        "   # ),\n",
        "      \n",
        "      html.Div(\n",
        "        dcc.Graph(\n",
        "            id='example-graph5', figure=fig5 )\n",
        "    ),\n",
        "\n",
        "    html.Div(\n",
        "        dcc.Graph(\n",
        "            id='example-graph6', figure=fig6 )\n",
        "    )\n",
        "    \n",
        "])\n",
        "\n",
        "if __name__ == '__main__':\n",
        "    app.run_server(debug=True)"
      ],
      "execution_count": null,
      "outputs": [
        {
          "output_type": "stream",
          "text": [
            "Overwriting exemplo_dash_1.py\n"
          ],
          "name": "stdout"
        }
      ]
    },
    {
      "cell_type": "code",
      "metadata": {
        "colab": {
          "base_uri": "https://localhost:8080/"
        },
        "id": "VZeLdk2CRcL_",
        "outputId": "487f4339-836c-4684-bd25-42bd7187d650"
      },
      "source": [
        "retorno = get_tunnel()\n",
        "print(retorno)  # Para podermos saber o endereço da URL da Aplicação\n",
        "!python exemplo_dash_1.py"
      ],
      "execution_count": null,
      "outputs": [
        {
          "output_type": "stream",
          "text": [
            "Response(url='https://99f1df17cf43.ngrok.io', error=None)\n",
            "Dash is running on http://127.0.0.1:8050/\n",
            "\n",
            " * Serving Flask app \"exemplo_dash_1\" (lazy loading)\n",
            " * Environment: production\n",
            "\u001b[31m   WARNING: This is a development server. Do not use it in a production deployment.\u001b[0m\n",
            "\u001b[2m   Use a production WSGI server instead.\u001b[0m\n",
            " * Debug mode: on\n"
          ],
          "name": "stdout"
        }
      ]
    }
  ]
}